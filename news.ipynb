{
  "nbformat": 4,
  "nbformat_minor": 0,
  "metadata": {
    "colab": {
      "name": "news.ipynb",
      "provenance": [],
      "authorship_tag": "ABX9TyNPOo8IG7iNRK0JskQq6g55",
      "include_colab_link": true
    },
    "kernelspec": {
      "name": "python3",
      "display_name": "Python 3"
    },
    "language_info": {
      "name": "python"
    }
  },
  "cells": [
    {
      "cell_type": "markdown",
      "metadata": {
        "id": "view-in-github",
        "colab_type": "text"
      },
      "source": [
        "<a href=\"https://colab.research.google.com/github/Ksenia-90/news_project/blob/lesson_9/news.ipynb\" target=\"_parent\"><img src=\"https://colab.research.google.com/assets/colab-badge.svg\" alt=\"Open In Colab\"/></a>"
      ]
    },
    {
      "cell_type": "markdown",
      "source": [
        "#**ИТОГОВЫЙ ПРОЕКТ**\n",
        "##**Тема: Fake-and-real-news**\n",
        "### Предсказать по описанию новости является ли она фейком или нет (поле target)\n",
        "https://www.kaggle.com/clmentbisaillon/fake-and-real-news-dataset "
      ],
      "metadata": {
        "id": "RZUFId-DfnBJ"
      }
    },
    {
      "cell_type": "code",
      "source": [
        "from google.colab import drive\n",
        "drive.mount('/content/drive')"
      ],
      "metadata": {
        "id": "GO9ZWMQdw3Wr",
        "colab": {
          "base_uri": "https://localhost:8080/"
        },
        "outputId": "aa0d68fe-df8f-4dd5-9cd8-df5868e46e6b"
      },
      "execution_count": 1,
      "outputs": [
        {
          "output_type": "stream",
          "name": "stdout",
          "text": [
            "Mounted at /content/drive\n"
          ]
        }
      ]
    },
    {
      "cell_type": "code",
      "source": [
        "import pandas as pd\n",
        "import dill\n",
        "import numpy as np\n",
        "import urllib.request\n",
        "import json  \n",
        "from sklearn.model_selection import train_test_split\n",
        "from sklearn.base import BaseEstimator, TransformerMixin\n",
        "from sklearn.metrics import confusion_matrix,accuracy_score,classification_report\n",
        "from sklearn.metrics import roc_auc_score,roc_curve\n",
        "from sklearn.metrics import f1_score\n",
        "from sklearn.feature_extraction.text import TfidfVectorizer\n",
        "from sklearn.preprocessing import StandardScaler\n",
        "from sklearn.pipeline import Pipeline, FeatureUnion\n",
        "from sklearn.metrics import precision_score,recall_score\n",
        "from sklearn import metrics\n",
        "import itertools\n",
        "\n",
        "import matplotlib.pyplot as plt\n",
        "\n",
        "%matplotlib inline"
      ],
      "metadata": {
        "id": "-1kIjQgS4Tou"
      },
      "execution_count": 2,
      "outputs": []
    },
    {
      "cell_type": "code",
      "source": [
        "df_f = pd.read_csv(\"/content/drive/My Drive/Colab Notebooks/Fake.csv\")\n",
        "df_f['target'] = 'fake'\n",
        "df_t = pd.read_csv(\"/content/drive/My Drive/Colab Notebooks/True.csv\")\n",
        "df_t['target'] = 'true'"
      ],
      "metadata": {
        "id": "JhRXy8aexOhZ"
      },
      "execution_count": 3,
      "outputs": []
    },
    {
      "cell_type": "code",
      "source": [
        "df_f.shape"
      ],
      "metadata": {
        "colab": {
          "base_uri": "https://localhost:8080/"
        },
        "id": "AelV5KOh0Gq4",
        "outputId": "04ec3822-39d9-4b2c-e054-33458fca3eda"
      },
      "execution_count": 4,
      "outputs": [
        {
          "output_type": "execute_result",
          "data": {
            "text/plain": [
              "(23481, 5)"
            ]
          },
          "metadata": {},
          "execution_count": 4
        }
      ]
    },
    {
      "cell_type": "code",
      "source": [
        "df_t.shape"
      ],
      "metadata": {
        "colab": {
          "base_uri": "https://localhost:8080/"
        },
        "id": "NBLvwAcT0JA3",
        "outputId": "465afc78-a564-4f88-f159-be1e2c6032d6"
      },
      "execution_count": 5,
      "outputs": [
        {
          "output_type": "execute_result",
          "data": {
            "text/plain": [
              "(21417, 5)"
            ]
          },
          "metadata": {},
          "execution_count": 5
        }
      ]
    },
    {
      "cell_type": "code",
      "source": [
        "df = pd.concat([df_f, df_t]).reset_index(drop = True)"
      ],
      "metadata": {
        "id": "1aaPr2oOx1yw"
      },
      "execution_count": 6,
      "outputs": []
    },
    {
      "cell_type": "code",
      "source": [
        "df.head()"
      ],
      "metadata": {
        "colab": {
          "base_uri": "https://localhost:8080/",
          "height": 206
        },
        "id": "dqv2cu5pznn9",
        "outputId": "3d2cfbcc-bcc4-4b3c-c76a-5198f5522bac"
      },
      "execution_count": 7,
      "outputs": [
        {
          "output_type": "execute_result",
          "data": {
            "text/html": [
              "\n",
              "  <div id=\"df-3ed4e80a-0bd1-49e6-b54e-7878a8ed4b25\">\n",
              "    <div class=\"colab-df-container\">\n",
              "      <div>\n",
              "<style scoped>\n",
              "    .dataframe tbody tr th:only-of-type {\n",
              "        vertical-align: middle;\n",
              "    }\n",
              "\n",
              "    .dataframe tbody tr th {\n",
              "        vertical-align: top;\n",
              "    }\n",
              "\n",
              "    .dataframe thead th {\n",
              "        text-align: right;\n",
              "    }\n",
              "</style>\n",
              "<table border=\"1\" class=\"dataframe\">\n",
              "  <thead>\n",
              "    <tr style=\"text-align: right;\">\n",
              "      <th></th>\n",
              "      <th>title</th>\n",
              "      <th>text</th>\n",
              "      <th>subject</th>\n",
              "      <th>date</th>\n",
              "      <th>target</th>\n",
              "    </tr>\n",
              "  </thead>\n",
              "  <tbody>\n",
              "    <tr>\n",
              "      <th>0</th>\n",
              "      <td>Donald Trump Sends Out Embarrassing New Year’...</td>\n",
              "      <td>Donald Trump just couldn t wish all Americans ...</td>\n",
              "      <td>News</td>\n",
              "      <td>December 31, 2017</td>\n",
              "      <td>fake</td>\n",
              "    </tr>\n",
              "    <tr>\n",
              "      <th>1</th>\n",
              "      <td>Drunk Bragging Trump Staffer Started Russian ...</td>\n",
              "      <td>House Intelligence Committee Chairman Devin Nu...</td>\n",
              "      <td>News</td>\n",
              "      <td>December 31, 2017</td>\n",
              "      <td>fake</td>\n",
              "    </tr>\n",
              "    <tr>\n",
              "      <th>2</th>\n",
              "      <td>Sheriff David Clarke Becomes An Internet Joke...</td>\n",
              "      <td>On Friday, it was revealed that former Milwauk...</td>\n",
              "      <td>News</td>\n",
              "      <td>December 30, 2017</td>\n",
              "      <td>fake</td>\n",
              "    </tr>\n",
              "    <tr>\n",
              "      <th>3</th>\n",
              "      <td>Trump Is So Obsessed He Even Has Obama’s Name...</td>\n",
              "      <td>On Christmas day, Donald Trump announced that ...</td>\n",
              "      <td>News</td>\n",
              "      <td>December 29, 2017</td>\n",
              "      <td>fake</td>\n",
              "    </tr>\n",
              "    <tr>\n",
              "      <th>4</th>\n",
              "      <td>Pope Francis Just Called Out Donald Trump Dur...</td>\n",
              "      <td>Pope Francis used his annual Christmas Day mes...</td>\n",
              "      <td>News</td>\n",
              "      <td>December 25, 2017</td>\n",
              "      <td>fake</td>\n",
              "    </tr>\n",
              "  </tbody>\n",
              "</table>\n",
              "</div>\n",
              "      <button class=\"colab-df-convert\" onclick=\"convertToInteractive('df-3ed4e80a-0bd1-49e6-b54e-7878a8ed4b25')\"\n",
              "              title=\"Convert this dataframe to an interactive table.\"\n",
              "              style=\"display:none;\">\n",
              "        \n",
              "  <svg xmlns=\"http://www.w3.org/2000/svg\" height=\"24px\"viewBox=\"0 0 24 24\"\n",
              "       width=\"24px\">\n",
              "    <path d=\"M0 0h24v24H0V0z\" fill=\"none\"/>\n",
              "    <path d=\"M18.56 5.44l.94 2.06.94-2.06 2.06-.94-2.06-.94-.94-2.06-.94 2.06-2.06.94zm-11 1L8.5 8.5l.94-2.06 2.06-.94-2.06-.94L8.5 2.5l-.94 2.06-2.06.94zm10 10l.94 2.06.94-2.06 2.06-.94-2.06-.94-.94-2.06-.94 2.06-2.06.94z\"/><path d=\"M17.41 7.96l-1.37-1.37c-.4-.4-.92-.59-1.43-.59-.52 0-1.04.2-1.43.59L10.3 9.45l-7.72 7.72c-.78.78-.78 2.05 0 2.83L4 21.41c.39.39.9.59 1.41.59.51 0 1.02-.2 1.41-.59l7.78-7.78 2.81-2.81c.8-.78.8-2.07 0-2.86zM5.41 20L4 18.59l7.72-7.72 1.47 1.35L5.41 20z\"/>\n",
              "  </svg>\n",
              "      </button>\n",
              "      \n",
              "  <style>\n",
              "    .colab-df-container {\n",
              "      display:flex;\n",
              "      flex-wrap:wrap;\n",
              "      gap: 12px;\n",
              "    }\n",
              "\n",
              "    .colab-df-convert {\n",
              "      background-color: #E8F0FE;\n",
              "      border: none;\n",
              "      border-radius: 50%;\n",
              "      cursor: pointer;\n",
              "      display: none;\n",
              "      fill: #1967D2;\n",
              "      height: 32px;\n",
              "      padding: 0 0 0 0;\n",
              "      width: 32px;\n",
              "    }\n",
              "\n",
              "    .colab-df-convert:hover {\n",
              "      background-color: #E2EBFA;\n",
              "      box-shadow: 0px 1px 2px rgba(60, 64, 67, 0.3), 0px 1px 3px 1px rgba(60, 64, 67, 0.15);\n",
              "      fill: #174EA6;\n",
              "    }\n",
              "\n",
              "    [theme=dark] .colab-df-convert {\n",
              "      background-color: #3B4455;\n",
              "      fill: #D2E3FC;\n",
              "    }\n",
              "\n",
              "    [theme=dark] .colab-df-convert:hover {\n",
              "      background-color: #434B5C;\n",
              "      box-shadow: 0px 1px 3px 1px rgba(0, 0, 0, 0.15);\n",
              "      filter: drop-shadow(0px 1px 2px rgba(0, 0, 0, 0.3));\n",
              "      fill: #FFFFFF;\n",
              "    }\n",
              "  </style>\n",
              "\n",
              "      <script>\n",
              "        const buttonEl =\n",
              "          document.querySelector('#df-3ed4e80a-0bd1-49e6-b54e-7878a8ed4b25 button.colab-df-convert');\n",
              "        buttonEl.style.display =\n",
              "          google.colab.kernel.accessAllowed ? 'block' : 'none';\n",
              "\n",
              "        async function convertToInteractive(key) {\n",
              "          const element = document.querySelector('#df-3ed4e80a-0bd1-49e6-b54e-7878a8ed4b25');\n",
              "          const dataTable =\n",
              "            await google.colab.kernel.invokeFunction('convertToInteractive',\n",
              "                                                     [key], {});\n",
              "          if (!dataTable) return;\n",
              "\n",
              "          const docLinkHtml = 'Like what you see? Visit the ' +\n",
              "            '<a target=\"_blank\" href=https://colab.research.google.com/notebooks/data_table.ipynb>data table notebook</a>'\n",
              "            + ' to learn more about interactive tables.';\n",
              "          element.innerHTML = '';\n",
              "          dataTable['output_type'] = 'display_data';\n",
              "          await google.colab.output.renderOutput(dataTable, element);\n",
              "          const docLink = document.createElement('div');\n",
              "          docLink.innerHTML = docLinkHtml;\n",
              "          element.appendChild(docLink);\n",
              "        }\n",
              "      </script>\n",
              "    </div>\n",
              "  </div>\n",
              "  "
            ],
            "text/plain": [
              "                                               title  ... target\n",
              "0   Donald Trump Sends Out Embarrassing New Year’...  ...   fake\n",
              "1   Drunk Bragging Trump Staffer Started Russian ...  ...   fake\n",
              "2   Sheriff David Clarke Becomes An Internet Joke...  ...   fake\n",
              "3   Trump Is So Obsessed He Even Has Obama’s Name...  ...   fake\n",
              "4   Pope Francis Just Called Out Donald Trump Dur...  ...   fake\n",
              "\n",
              "[5 rows x 5 columns]"
            ]
          },
          "metadata": {},
          "execution_count": 7
        }
      ]
    },
    {
      "cell_type": "code",
      "source": [
        "df.shape"
      ],
      "metadata": {
        "colab": {
          "base_uri": "https://localhost:8080/"
        },
        "id": "TGud6sbQ0C21",
        "outputId": "356880ed-cbed-4cf8-b19b-d0312229d778"
      },
      "execution_count": 8,
      "outputs": [
        {
          "output_type": "execute_result",
          "data": {
            "text/plain": [
              "(44898, 5)"
            ]
          },
          "metadata": {},
          "execution_count": 8
        }
      ]
    },
    {
      "cell_type": "code",
      "source": [
        "df.info()"
      ],
      "metadata": {
        "colab": {
          "base_uri": "https://localhost:8080/"
        },
        "id": "HIcTBPxS1h4S",
        "outputId": "7f7b2743-355f-4b8c-811b-490d4899037e"
      },
      "execution_count": 9,
      "outputs": [
        {
          "output_type": "stream",
          "name": "stdout",
          "text": [
            "<class 'pandas.core.frame.DataFrame'>\n",
            "RangeIndex: 44898 entries, 0 to 44897\n",
            "Data columns (total 5 columns):\n",
            " #   Column   Non-Null Count  Dtype \n",
            "---  ------   --------------  ----- \n",
            " 0   title    44898 non-null  object\n",
            " 1   text     44898 non-null  object\n",
            " 2   subject  44898 non-null  object\n",
            " 3   date     44898 non-null  object\n",
            " 4   target   44898 non-null  object\n",
            "dtypes: object(5)\n",
            "memory usage: 1.7+ MB\n"
          ]
        }
      ]
    },
    {
      "cell_type": "code",
      "source": [
        "df['subject'].unique()"
      ],
      "metadata": {
        "colab": {
          "base_uri": "https://localhost:8080/"
        },
        "id": "9koAd4eu8K1C",
        "outputId": "babfb9c3-6335-4e18-a722-b6ebd7376a67"
      },
      "execution_count": 10,
      "outputs": [
        {
          "output_type": "execute_result",
          "data": {
            "text/plain": [
              "array(['News', 'politics', 'Government News', 'left-news', 'US_News',\n",
              "       'Middle-east', 'politicsNews', 'worldnews'], dtype=object)"
            ]
          },
          "metadata": {},
          "execution_count": 10
        }
      ]
    },
    {
      "cell_type": "code",
      "source": [
        "print(df.groupby(['subject'])['text'].count())\n",
        "df.groupby(['subject'])['text'].count().plot(kind=\"bar\")\n",
        "plt.show()"
      ],
      "metadata": {
        "colab": {
          "base_uri": "https://localhost:8080/",
          "height": 536
        },
        "id": "WYqDfEbY1yF5",
        "outputId": "135a7958-5066-495b-b39c-0a0d28ee60c9"
      },
      "execution_count": 11,
      "outputs": [
        {
          "output_type": "stream",
          "name": "stdout",
          "text": [
            "subject\n",
            "Government News     1570\n",
            "Middle-east          778\n",
            "News                9050\n",
            "US_News              783\n",
            "left-news           4459\n",
            "politics            6841\n",
            "politicsNews       11272\n",
            "worldnews          10145\n",
            "Name: text, dtype: int64\n"
          ]
        },
        {
          "output_type": "display_data",
          "data": {
            "image/png": "[encoded data removed]",
            "text/plain": [
              "<Figure size 432x288 with 1 Axes>"
            ]
          },
          "metadata": {
            "needs_background": "light"
          }
        }
      ]
    },
    {
      "cell_type": "code",
      "source": [
        "from pandas.core.accessor import PandasDelegate\n",
        "print(df.groupby(['target'])['text'].count())\n",
        "df.groupby(['target'])['text'].count().plot(kind=\"bar\")\n",
        "plt.show()"
      ],
      "metadata": {
        "colab": {
          "base_uri": "https://localhost:8080/",
          "height": 360
        },
        "id": "Cl9drEd8180Y",
        "outputId": "d2e72e67-ce0e-47c6-8b1c-5c5b3f220486"
      },
      "execution_count": 12,
      "outputs": [
        {
          "output_type": "stream",
          "name": "stdout",
          "text": [
            "target\n",
            "fake    23481\n",
            "true    21417\n",
            "Name: text, dtype: int64\n"
          ]
        },
        {
          "output_type": "display_data",
          "data": {
            "image/png": "[encoded data removed]",
            "text/plain": [
              "<Figure size 432x288 with 1 Axes>"
            ]
          },
          "metadata": {
            "needs_background": "light"
          }
        }
      ]
    },
    {
      "cell_type": "code",
      "source": [
        "import string\n",
        "def punctuation(text):\n",
        "    all_list = [char for char in text if char not in string.punctuation]\n",
        "    clean_str = ''.join(all_list)\n",
        "    return clean_str\n",
        "df['text'] = df['text'].apply(punctuation)"
      ],
      "metadata": {
        "id": "cc2H4iGIoUOf"
      },
      "execution_count": 13,
      "outputs": []
    },
    {
      "cell_type": "code",
      "source": [
        "print(df.groupby(['subject'])['text'].count())\n",
        "df.groupby(['subject'])['text'].count().plot(kind=\"bar\")\n",
        "plt.show()"
      ],
      "metadata": {
        "colab": {
          "base_uri": "https://localhost:8080/",
          "height": 536
        },
        "id": "cGVHMiqyolmE",
        "outputId": "3f32d70f-f6b6-4c80-9dee-ee2b847d4b9a"
      },
      "execution_count": 14,
      "outputs": [
        {
          "output_type": "stream",
          "name": "stdout",
          "text": [
            "subject\n",
            "Government News     1570\n",
            "Middle-east          778\n",
            "News                9050\n",
            "US_News              783\n",
            "left-news           4459\n",
            "politics            6841\n",
            "politicsNews       11272\n",
            "worldnews          10145\n",
            "Name: text, dtype: int64\n"
          ]
        },
        {
          "output_type": "display_data",
          "data": {
            "image/png": "[encoded data removed]",
            "text/plain": [
              "<Figure size 432x288 with 1 Axes>"
            ]
          },
          "metadata": {
            "needs_background": "light"
          }
        }
      ]
    },
    {
      "cell_type": "code",
      "source": [
        "X_train, X_test, y_train, y_test = train_test_split(df, \n",
        "                                                    df['target'], test_size=0.33, random_state=42)\n",
        "#save test\n",
        "X_test.to_csv(\"X_test.csv\", index=None)\n",
        "y_test.to_csv(\"y_test.csv\", index=None)\n",
        "#save train\n",
        "X_train.to_csv(\"X_train.csv\", index=None)\n",
        "y_train.to_csv(\"y_train.csv\", index=None)"
      ],
      "metadata": {
        "id": "Vr7KrSYG3bX1"
      },
      "execution_count": 15,
      "outputs": []
    },
    {
      "cell_type": "code",
      "source": [
        "class ColumnSelector(BaseEstimator, TransformerMixin):\n",
        "    \"\"\"\n",
        "    Transformer to select a single column from the data frame to perform additional transformations on\n",
        "    \"\"\"\n",
        "    def __init__(self, key):\n",
        "        self.key = key\n",
        "\n",
        "    def fit(self, X, y=None):\n",
        "        return self\n",
        "\n",
        "    def transform(self, X):\n",
        "        return X[self.key]\n",
        "    \n",
        "class TextImputer(BaseEstimator, TransformerMixin):\n",
        "    def __init__(self, key, value):\n",
        "        self.key = key\n",
        "        self.value = value\n",
        "    def fit(self, X, y=None):\n",
        "        return self\n",
        "    def transform(self, X):\n",
        "        X[self.key] = X[self.key].fillna(self.value)\n",
        "        return X"
      ],
      "metadata": {
        "id": "AVCD65jI3iiY"
      },
      "execution_count": 16,
      "outputs": []
    },
    {
      "cell_type": "code",
      "source": [
        "def confusion_matrix(cm, classes,\n",
        "                          normalize=False,\n",
        "                          title='Confusion matrix',\n",
        "                          cmap=plt.cm.Blues):\n",
        " \n",
        "    if normalize:\n",
        "        cm = cm.astype('float') / cm.sum(axis=1)[:, np.newaxis]\n",
        "        print(\"Normalized confusion matrix\")\n",
        "    else:\n",
        "        print('Confusion matrix, without normalization')\n",
        "\n",
        "    print(cm)\n",
        "\n",
        "    plt.imshow(cm, interpolation='nearest', cmap=cmap)\n",
        "    plt.title(title)\n",
        "    plt.colorbar()\n",
        "    tick_marks = np.arange(len(classes))\n",
        "    plt.xticks(tick_marks, classes, rotation=45)\n",
        "    plt.yticks(tick_marks, classes)\n",
        "\n",
        "    fmt = '.2f' if normalize else 'd'\n",
        "    thresh = cm.max() / 2.\n",
        "    for i, j in itertools.product(range(cm.shape[0]), range(cm.shape[1])):\n",
        "        plt.text(j, i, format(cm[i, j], fmt),\n",
        "                 horizontalalignment=\"center\",\n",
        "                 color=\"white\" if cm[i, j] > thresh else \"black\")\n",
        "\n",
        "    plt.ylabel('True label')\n",
        "    plt.xlabel('Predicted label')\n",
        "    plt.tight_layout()\n"
      ],
      "metadata": {
        "id": "yqOBIMXvpd1X"
      },
      "execution_count": 17,
      "outputs": []
    },
    {
      "cell_type": "code",
      "source": [
        "title = Pipeline([\n",
        "               ('imputer', TextImputer('title', '')),\n",
        "               ('selector', ColumnSelector(key='title')),\n",
        "                ('tfidf', TfidfVectorizer( max_df=0.9,  min_df=5))\n",
        "            ])\n",
        "text = Pipeline([\n",
        "                ('imputer', TextImputer('text', '')),\n",
        "                ('selector', ColumnSelector(key='text')),\n",
        "                ('tfidf', TfidfVectorizer(max_df=0.9,  min_df=15))\n",
        "            ])\n",
        "subject = Pipeline([\n",
        "                ('imputer', TextImputer('subject', '')),\n",
        "                ('selector', ColumnSelector(key='subject')),\n",
        "                ('tfidf', TfidfVectorizer(max_df=0.6, min_df=10))\n",
        "            ])\n",
        "\n",
        "\n",
        "feats = FeatureUnion([('title', title),\n",
        "                      ('text', text),\n",
        "                      ('subject', subject)\n",
        "                      ])"
      ],
      "metadata": {
        "id": "avYmmhlU3mrX"
      },
      "execution_count": 18,
      "outputs": []
    },
    {
      "cell_type": "code",
      "source": [
        "features = ['title', 'text','subject']\n",
        "target = 'target'"
      ],
      "metadata": {
        "id": "W5ElSa975O66"
      },
      "execution_count": 19,
      "outputs": []
    },
    {
      "cell_type": "code",
      "source": [
        "from sklearn.ensemble import RandomForestClassifier"
      ],
      "metadata": {
        "id": "0mA-lIzCAYkR"
      },
      "execution_count": 20,
      "outputs": []
    },
    {
      "cell_type": "code",
      "source": [
        "pipeline = Pipeline([\n",
        "    ('features',feats),\n",
        "    ('classifier', RandomForestClassifier(n_estimators=25, criterion=\"entropy\")),\n",
        "])\n",
        "\n",
        "pipeline.fit(X_train, y_train)"
      ],
      "metadata": {
        "colab": {
          "base_uri": "https://localhost:8080/"
        },
        "id": "xc5aI5ih46xY",
        "outputId": "7a3b5cff-6682-4d4e-ab63-70b56774b2c5"
      },
      "execution_count": 21,
      "outputs": [
        {
          "output_type": "execute_result",
          "data": {
            "text/plain": [
              "Pipeline(steps=[('features',\n",
              "                 FeatureUnion(transformer_list=[('title',\n",
              "                                                 Pipeline(steps=[('imputer',\n",
              "                                                                  TextImputer(key='title',\n",
              "                                                                              value='')),\n",
              "                                                                 ('selector',\n",
              "                                                                  ColumnSelector(key='title')),\n",
              "                                                                 ('tfidf',\n",
              "                                                                  TfidfVectorizer(max_df=0.9,\n",
              "                                                                                  min_df=5))])),\n",
              "                                                ('text',\n",
              "                                                 Pipeline(steps=[('imputer',\n",
              "                                                                  TextImputer(key='text',\n",
              "                                                                              value='')),\n",
              "                                                                 ('selector',\n",
              "                                                                  ColumnSelector(key='text')),\n",
              "                                                                 ('tfidf',\n",
              "                                                                  TfidfVectorizer(max_df=0.9,\n",
              "                                                                                  min_df=15))])),\n",
              "                                                ('subject',\n",
              "                                                 Pipeline(steps=[('imputer',\n",
              "                                                                  TextImputer(key='subject',\n",
              "                                                                              value='')),\n",
              "                                                                 ('selector',\n",
              "                                                                  ColumnSelector(key='subject')),\n",
              "                                                                 ('tfidf',\n",
              "                                                                  TfidfVectorizer(max_df=0.6,\n",
              "                                                                                  min_df=10))]))])),\n",
              "                ('classifier',\n",
              "                 RandomForestClassifier(criterion='entropy', n_estimators=25))])"
            ]
          },
          "metadata": {},
          "execution_count": 21
        }
      ]
    },
    {
      "cell_type": "code",
      "source": [
        "prediction = pipeline.predict(X_test)\n",
        "print(\"accuracy: {}%\".format(round(accuracy_score(y_test, prediction)*100,2)))"
      ],
      "metadata": {
        "id": "S8E6pRAioTTh",
        "outputId": "07656bae-5135-4d8b-f728-c7435b310f01",
        "colab": {
          "base_uri": "https://localhost:8080/"
        }
      },
      "execution_count": 22,
      "outputs": [
        {
          "output_type": "stream",
          "name": "stdout",
          "text": [
            "accuracy: 99.66%\n"
          ]
        }
      ]
    },
    {
      "cell_type": "code",
      "source": [
        "cm = metrics.confusion_matrix(y_test, prediction)\n",
        "confusion_matrix(cm, classes=['Fake', 'Real'])"
      ],
      "metadata": {
        "id": "MU-ZU6hvqDay",
        "outputId": "3441014f-1fa2-4e6e-e080-6ef4076d876c",
        "colab": {
          "base_uri": "https://localhost:8080/",
          "height": 349
        }
      },
      "execution_count": 23,
      "outputs": [
        {
          "output_type": "stream",
          "name": "stdout",
          "text": [
            "Confusion matrix, without normalization\n",
            "[[7757   21]\n",
            " [  30 7009]]\n"
          ]
        },
        {
          "output_type": "display_data",
          "data": {
            "image/png": "[encoded data removed]",
            "text/plain": [
              "<Figure size 432x288 with 2 Axes>"
            ]
          },
          "metadata": {
            "needs_background": "light"
          }
        }
      ]
    },
    {
      "cell_type": "code",
      "execution_count": 24,
      "metadata": {
        "id": "SJdE-flSouKS"
      },
      "outputs": [],
      "source": [
        "predictions = pipeline.predict_proba(X_test)"
      ]
    },
    {
      "cell_type": "code",
      "execution_count": 25,
      "metadata": {
        "outputId": "bbb01d7f-6647-472e-cfc8-680cefec1374",
        "colab": {
          "base_uri": "https://localhost:8080/"
        },
        "id": "5KqJerNTouKU"
      },
      "outputs": [
        {
          "output_type": "execute_result",
          "data": {
            "text/plain": [
              "0.9999017248463004"
            ]
          },
          "metadata": {},
          "execution_count": 25
        }
      ],
      "source": [
        "roc_auc_score(y_score=predictions[:, 1][:], y_true=y_test.iloc[:])"
      ]
    },
    {
      "cell_type": "code",
      "source": [
        "with open(\"logreg_pipeline.dill\", \"wb\") as f:\n",
        "    dill.dump(pipeline, f)"
      ],
      "metadata": {
        "id": "ZG6G759o5w5r"
      },
      "execution_count": 26,
      "outputs": []
    },
    {
      "cell_type": "code",
      "execution_count": 27,
      "metadata": {
        "id": "awXmPWin5-V2"
      },
      "outputs": [],
      "source": [
        "dill._dill._reverse_typemap['ClassType'] = type"
      ]
    },
    {
      "cell_type": "code",
      "execution_count": 28,
      "metadata": {
        "id": "IXqMvQFK5-V6"
      },
      "outputs": [],
      "source": [
        "with open('logreg_pipeline.dill', 'rb') as in_strm:\n",
        "    pipeline = dill.load(in_strm)"
      ]
    },
    {
      "cell_type": "code",
      "execution_count": 29,
      "metadata": {
        "id": "Fqg0zLu_X2AM"
      },
      "outputs": [],
      "source": [
        "def get_prediction(title, text, subject):\n",
        "    body = {'title': title,\n",
        "                      'text': text,\n",
        "                      'subject': subject} \n",
        "\n",
        "    myurl = \"http://0.0.0.0:8180/predict\"\n",
        "    req = urllib.request.Request(myurl)\n",
        "    req.add_header('Content-Type', 'application/json; charset=utf-8')\n",
        "    jsondata = json.dumps(body)\n",
        "    jsondataasbytes = jsondata.encode('utf-8')   # needs to be bytes\n",
        "    req.add_header('Content-Length', len(jsondataasbytes))\n",
        "    #print (jsondataasbytes)\n",
        "    response = urllib.request.urlopen(req, jsondataasbytes)\n",
        "    return json.loads(response.read())['predictions']"
      ]
    }
  ]
}